{
  "nbformat": 4,
  "nbformat_minor": 0,
  "metadata": {
    "colab": {
      "name": "Untitled4.ipynb",
      "provenance": []
    },
    "kernelspec": {
      "name": "python3",
      "display_name": "Python 3"
    },
    "language_info": {
      "name": "python"
    }
  },
  "cells": [
    {
      "cell_type": "code",
      "metadata": {
        "id": "VWWCART2TQfJ"
      },
      "source": [
        "import pandas as pd"
      ],
      "execution_count": 3,
      "outputs": []
    },
    {
      "cell_type": "code",
      "metadata": {
        "id": "UOvA99EpTdmg"
      },
      "source": [
        "df = pd.read_csv(\"same-sex-marriage-recognition.csv\")"
      ],
      "execution_count": 4,
      "outputs": []
    },
    {
      "cell_type": "code",
      "metadata": {
        "colab": {
          "base_uri": "https://localhost:8080/",
          "height": 424
        },
        "id": "_265XF_MTv1b",
        "outputId": "4e092c58-1190-4f16-b925-daf957e7f225"
      },
      "source": [
        "df"
      ],
      "execution_count": 5,
      "outputs": [
        {
          "output_type": "execute_result",
          "data": {
            "text/html": [
              "<div>\n",
              "<style scoped>\n",
              "    .dataframe tbody tr th:only-of-type {\n",
              "        vertical-align: middle;\n",
              "    }\n",
              "\n",
              "    .dataframe tbody tr th {\n",
              "        vertical-align: top;\n",
              "    }\n",
              "\n",
              "    .dataframe thead th {\n",
              "        text-align: right;\n",
              "    }\n",
              "</style>\n",
              "<table border=\"1\" class=\"dataframe\">\n",
              "  <thead>\n",
              "    <tr style=\"text-align: right;\">\n",
              "      <th></th>\n",
              "      <th>Entity</th>\n",
              "      <th>Code</th>\n",
              "      <th>Year</th>\n",
              "      <th>Same sex marriage and civil unions legal</th>\n",
              "    </tr>\n",
              "  </thead>\n",
              "  <tbody>\n",
              "    <tr>\n",
              "      <th>0</th>\n",
              "      <td>Afghanistan</td>\n",
              "      <td>AFG</td>\n",
              "      <td>2020</td>\n",
              "      <td>Same-sex marriage not legally recognized</td>\n",
              "    </tr>\n",
              "    <tr>\n",
              "      <th>1</th>\n",
              "      <td>Albania</td>\n",
              "      <td>ALB</td>\n",
              "      <td>2020</td>\n",
              "      <td>Same-sex marriage not legally recognized</td>\n",
              "    </tr>\n",
              "    <tr>\n",
              "      <th>2</th>\n",
              "      <td>Algeria</td>\n",
              "      <td>DZA</td>\n",
              "      <td>2020</td>\n",
              "      <td>Same-sex marriage not legally recognized</td>\n",
              "    </tr>\n",
              "    <tr>\n",
              "      <th>3</th>\n",
              "      <td>American Samoa</td>\n",
              "      <td>ASM</td>\n",
              "      <td>2020</td>\n",
              "      <td>Same-sex marriage not legally recognized</td>\n",
              "    </tr>\n",
              "    <tr>\n",
              "      <th>4</th>\n",
              "      <td>Andorra</td>\n",
              "      <td>AND</td>\n",
              "      <td>2005</td>\n",
              "      <td>Some rights to same-sex couples</td>\n",
              "    </tr>\n",
              "    <tr>\n",
              "      <th>...</th>\n",
              "      <td>...</td>\n",
              "      <td>...</td>\n",
              "      <td>...</td>\n",
              "      <td>...</td>\n",
              "    </tr>\n",
              "    <tr>\n",
              "      <th>219</th>\n",
              "      <td>West Bank</td>\n",
              "      <td>NaN</td>\n",
              "      <td>2020</td>\n",
              "      <td>Same-sex marriage not legally recognized</td>\n",
              "    </tr>\n",
              "    <tr>\n",
              "      <th>220</th>\n",
              "      <td>Western Sahara</td>\n",
              "      <td>ESH</td>\n",
              "      <td>2020</td>\n",
              "      <td>Same-sex marriage not legally recognized</td>\n",
              "    </tr>\n",
              "    <tr>\n",
              "      <th>221</th>\n",
              "      <td>Yemen</td>\n",
              "      <td>YEM</td>\n",
              "      <td>2020</td>\n",
              "      <td>Same-sex marriage not legally recognized</td>\n",
              "    </tr>\n",
              "    <tr>\n",
              "      <th>222</th>\n",
              "      <td>Zambia</td>\n",
              "      <td>ZMB</td>\n",
              "      <td>2020</td>\n",
              "      <td>Same-sex marriage not legally recognized</td>\n",
              "    </tr>\n",
              "    <tr>\n",
              "      <th>223</th>\n",
              "      <td>Zimbabwe</td>\n",
              "      <td>ZWE</td>\n",
              "      <td>2020</td>\n",
              "      <td>Same-sex marriage not legally recognized</td>\n",
              "    </tr>\n",
              "  </tbody>\n",
              "</table>\n",
              "<p>224 rows × 4 columns</p>\n",
              "</div>"
            ],
            "text/plain": [
              "             Entity Code  Year  Same sex marriage and civil unions legal\n",
              "0       Afghanistan  AFG  2020  Same-sex marriage not legally recognized\n",
              "1           Albania  ALB  2020  Same-sex marriage not legally recognized\n",
              "2           Algeria  DZA  2020  Same-sex marriage not legally recognized\n",
              "3    American Samoa  ASM  2020  Same-sex marriage not legally recognized\n",
              "4           Andorra  AND  2005           Some rights to same-sex couples\n",
              "..              ...  ...   ...                                       ...\n",
              "219       West Bank  NaN  2020  Same-sex marriage not legally recognized\n",
              "220  Western Sahara  ESH  2020  Same-sex marriage not legally recognized\n",
              "221           Yemen  YEM  2020  Same-sex marriage not legally recognized\n",
              "222          Zambia  ZMB  2020  Same-sex marriage not legally recognized\n",
              "223        Zimbabwe  ZWE  2020  Same-sex marriage not legally recognized\n",
              "\n",
              "[224 rows x 4 columns]"
            ]
          },
          "metadata": {},
          "execution_count": 5
        }
      ]
    },
    {
      "cell_type": "markdown",
      "metadata": {
        "id": "4Euzc_35avcZ"
      },
      "source": [
        "Na célula a está sendo feita a substituição dos valores em string para inteiros para facilitar a leitura dos dados nas próximas operações"
      ]
    },
    {
      "cell_type": "code",
      "metadata": {
        "colab": {
          "base_uri": "https://localhost:8080/",
          "height": 424
        },
        "id": "ZA9JhUyJZZdm",
        "outputId": "6d373268-4b95-4836-ed0b-61928ad5a33c"
      },
      "source": [
        "df = df.replace(\"Same-sex marriage not legally recognized\", value=1)\n",
        "df = df.replace(\"Some rights to same-sex couples\", value=2)\n",
        "df = df.replace(\"Same-sex marriage legal\", value=3)\n",
        "df = df.replace(\"Same-sex marriage legal in some jurisdictions\", value=4)\n",
        "\n",
        "df"
      ],
      "execution_count": 6,
      "outputs": [
        {
          "output_type": "execute_result",
          "data": {
            "text/html": [
              "<div>\n",
              "<style scoped>\n",
              "    .dataframe tbody tr th:only-of-type {\n",
              "        vertical-align: middle;\n",
              "    }\n",
              "\n",
              "    .dataframe tbody tr th {\n",
              "        vertical-align: top;\n",
              "    }\n",
              "\n",
              "    .dataframe thead th {\n",
              "        text-align: right;\n",
              "    }\n",
              "</style>\n",
              "<table border=\"1\" class=\"dataframe\">\n",
              "  <thead>\n",
              "    <tr style=\"text-align: right;\">\n",
              "      <th></th>\n",
              "      <th>Entity</th>\n",
              "      <th>Code</th>\n",
              "      <th>Year</th>\n",
              "      <th>Same sex marriage and civil unions legal</th>\n",
              "    </tr>\n",
              "  </thead>\n",
              "  <tbody>\n",
              "    <tr>\n",
              "      <th>0</th>\n",
              "      <td>Afghanistan</td>\n",
              "      <td>AFG</td>\n",
              "      <td>2020</td>\n",
              "      <td>1</td>\n",
              "    </tr>\n",
              "    <tr>\n",
              "      <th>1</th>\n",
              "      <td>Albania</td>\n",
              "      <td>ALB</td>\n",
              "      <td>2020</td>\n",
              "      <td>1</td>\n",
              "    </tr>\n",
              "    <tr>\n",
              "      <th>2</th>\n",
              "      <td>Algeria</td>\n",
              "      <td>DZA</td>\n",
              "      <td>2020</td>\n",
              "      <td>1</td>\n",
              "    </tr>\n",
              "    <tr>\n",
              "      <th>3</th>\n",
              "      <td>American Samoa</td>\n",
              "      <td>ASM</td>\n",
              "      <td>2020</td>\n",
              "      <td>1</td>\n",
              "    </tr>\n",
              "    <tr>\n",
              "      <th>4</th>\n",
              "      <td>Andorra</td>\n",
              "      <td>AND</td>\n",
              "      <td>2005</td>\n",
              "      <td>2</td>\n",
              "    </tr>\n",
              "    <tr>\n",
              "      <th>...</th>\n",
              "      <td>...</td>\n",
              "      <td>...</td>\n",
              "      <td>...</td>\n",
              "      <td>...</td>\n",
              "    </tr>\n",
              "    <tr>\n",
              "      <th>219</th>\n",
              "      <td>West Bank</td>\n",
              "      <td>NaN</td>\n",
              "      <td>2020</td>\n",
              "      <td>1</td>\n",
              "    </tr>\n",
              "    <tr>\n",
              "      <th>220</th>\n",
              "      <td>Western Sahara</td>\n",
              "      <td>ESH</td>\n",
              "      <td>2020</td>\n",
              "      <td>1</td>\n",
              "    </tr>\n",
              "    <tr>\n",
              "      <th>221</th>\n",
              "      <td>Yemen</td>\n",
              "      <td>YEM</td>\n",
              "      <td>2020</td>\n",
              "      <td>1</td>\n",
              "    </tr>\n",
              "    <tr>\n",
              "      <th>222</th>\n",
              "      <td>Zambia</td>\n",
              "      <td>ZMB</td>\n",
              "      <td>2020</td>\n",
              "      <td>1</td>\n",
              "    </tr>\n",
              "    <tr>\n",
              "      <th>223</th>\n",
              "      <td>Zimbabwe</td>\n",
              "      <td>ZWE</td>\n",
              "      <td>2020</td>\n",
              "      <td>1</td>\n",
              "    </tr>\n",
              "  </tbody>\n",
              "</table>\n",
              "<p>224 rows × 4 columns</p>\n",
              "</div>"
            ],
            "text/plain": [
              "             Entity Code  Year  Same sex marriage and civil unions legal\n",
              "0       Afghanistan  AFG  2020                                         1\n",
              "1           Albania  ALB  2020                                         1\n",
              "2           Algeria  DZA  2020                                         1\n",
              "3    American Samoa  ASM  2020                                         1\n",
              "4           Andorra  AND  2005                                         2\n",
              "..              ...  ...   ...                                       ...\n",
              "219       West Bank  NaN  2020                                         1\n",
              "220  Western Sahara  ESH  2020                                         1\n",
              "221           Yemen  YEM  2020                                         1\n",
              "222          Zambia  ZMB  2020                                         1\n",
              "223        Zimbabwe  ZWE  2020                                         1\n",
              "\n",
              "[224 rows x 4 columns]"
            ]
          },
          "metadata": {},
          "execution_count": 6
        }
      ]
    },
    {
      "cell_type": "markdown",
      "metadata": {
        "id": "Ly6sJkmYbT6t"
      },
      "source": [
        "Checar se existem valores NaN"
      ]
    },
    {
      "cell_type": "code",
      "metadata": {
        "colab": {
          "base_uri": "https://localhost:8080/",
          "height": 143
        },
        "id": "UG2Ubhq6b0-z",
        "outputId": "4f94e9fd-4cc2-4b50-980c-3529230e0b3c"
      },
      "source": [
        "df1 = df[df.isna().any(axis=1)]\n",
        "df1"
      ],
      "execution_count": 7,
      "outputs": [
        {
          "output_type": "execute_result",
          "data": {
            "text/html": [
              "<div>\n",
              "<style scoped>\n",
              "    .dataframe tbody tr th:only-of-type {\n",
              "        vertical-align: middle;\n",
              "    }\n",
              "\n",
              "    .dataframe tbody tr th {\n",
              "        vertical-align: top;\n",
              "    }\n",
              "\n",
              "    .dataframe thead th {\n",
              "        text-align: right;\n",
              "    }\n",
              "</style>\n",
              "<table border=\"1\" class=\"dataframe\">\n",
              "  <thead>\n",
              "    <tr style=\"text-align: right;\">\n",
              "      <th></th>\n",
              "      <th>Entity</th>\n",
              "      <th>Code</th>\n",
              "      <th>Year</th>\n",
              "      <th>Same sex marriage and civil unions legal</th>\n",
              "    </tr>\n",
              "  </thead>\n",
              "  <tbody>\n",
              "    <tr>\n",
              "      <th>147</th>\n",
              "      <td>Northern Ireland</td>\n",
              "      <td>NaN</td>\n",
              "      <td>2019</td>\n",
              "      <td>3</td>\n",
              "    </tr>\n",
              "    <tr>\n",
              "      <th>174</th>\n",
              "      <td>Scotland</td>\n",
              "      <td>NaN</td>\n",
              "      <td>2014</td>\n",
              "      <td>3</td>\n",
              "    </tr>\n",
              "    <tr>\n",
              "      <th>219</th>\n",
              "      <td>West Bank</td>\n",
              "      <td>NaN</td>\n",
              "      <td>2020</td>\n",
              "      <td>1</td>\n",
              "    </tr>\n",
              "  </tbody>\n",
              "</table>\n",
              "</div>"
            ],
            "text/plain": [
              "               Entity Code  Year  Same sex marriage and civil unions legal\n",
              "147  Northern Ireland  NaN  2019                                         3\n",
              "174          Scotland  NaN  2014                                         3\n",
              "219         West Bank  NaN  2020                                         1"
            ]
          },
          "metadata": {},
          "execution_count": 7
        }
      ]
    },
    {
      "cell_type": "markdown",
      "metadata": {
        "id": "c9JH53IIcwce"
      },
      "source": [
        "Como os valores NaN estão na coluna \"Code\" que não será usada nessa análise, decidi não excluir esses países da base.\n",
        "\n",
        "Quantidade e agrupamento dos países em que o casamento entre pessoas do mesmo sexo é ilegal:"
      ]
    },
    {
      "cell_type": "code",
      "metadata": {
        "colab": {
          "base_uri": "https://localhost:8080/"
        },
        "id": "vOePPARSc8Hv",
        "outputId": "5a7ea8d1-f3e0-4709-b335-167d08d0b8a3"
      },
      "source": [
        "df1 = df.loc[df['Same sex marriage and civil unions legal'] <= 2]\n",
        "print(len(df1), \"países\")\n",
        "print(df1)"
      ],
      "execution_count": 8,
      "outputs": [
        {
          "output_type": "stream",
          "name": "stdout",
          "text": [
            "192 países\n",
            "             Entity Code  Year  Same sex marriage and civil unions legal\n",
            "0       Afghanistan  AFG  2020                                         1\n",
            "1           Albania  ALB  2020                                         1\n",
            "2           Algeria  DZA  2020                                         1\n",
            "3    American Samoa  ASM  2020                                         1\n",
            "4           Andorra  AND  2005                                         2\n",
            "..              ...  ...   ...                                       ...\n",
            "219       West Bank  NaN  2020                                         1\n",
            "220  Western Sahara  ESH  2020                                         1\n",
            "221           Yemen  YEM  2020                                         1\n",
            "222          Zambia  ZMB  2020                                         1\n",
            "223        Zimbabwe  ZWE  2020                                         1\n",
            "\n",
            "[192 rows x 4 columns]\n"
          ]
        }
      ]
    },
    {
      "cell_type": "markdown",
      "metadata": {
        "id": "epQCyvOpjVm_"
      },
      "source": [
        "Quantidade e agrupamento dos países em que o casamento entre pessoas do mesmo sexo é permitido:"
      ]
    },
    {
      "cell_type": "code",
      "metadata": {
        "colab": {
          "base_uri": "https://localhost:8080/"
        },
        "id": "n9hoaLMRjc2n",
        "outputId": "ddbf6878-8c06-4206-a103-600e87e078ad"
      },
      "source": [
        "df1 = df.loc[df['Same sex marriage and civil unions legal'] == 3]\n",
        "print(len(df1), \"países\")\n",
        "print(df1)"
      ],
      "execution_count": 9,
      "outputs": [
        {
          "output_type": "stream",
          "name": "stdout",
          "text": [
            "31 países\n",
            "               Entity Code  Year  Same sex marriage and civil unions legal\n",
            "7           Argentina  ARG  2010                                         3\n",
            "10          Australia  AUS  2017                                         3\n",
            "11            Austria  AUT  2019                                         3\n",
            "18            Belgium  BEL  2003                                         3\n",
            "26             Brazil  BRA  2013                                         3\n",
            "34             Canada  CAN  2005                                         3\n",
            "42           Colombia  COL  2016                                         3\n",
            "45         Costa Rica  CRI  2020                                         3\n",
            "53            Denmark  DNK  2012                                         3\n",
            "57            Ecuador  ECU  2019                                         3\n",
            "67            Finland  FIN  2015                                         3\n",
            "68             France  FRA  2013                                         3\n",
            "75            Germany  DEU  2017                                         3\n",
            "79          Greenland  GRL  2015                                         3\n",
            "90            Iceland  ISL  2010                                         3\n",
            "95            Ireland  IRL  2015                                         3\n",
            "116        Luxembourg  LUX  2014                                         3\n",
            "123             Malta  MLT  2017                                         3\n",
            "139       Netherlands  NLD  2000                                         3\n",
            "141       New Zealand  NZL  2013                                         3\n",
            "147  Northern Ireland  NaN  2019                                         3\n",
            "149            Norway  NOR  2008                                         3\n",
            "160          Portugal  PRT  2010                                         3\n",
            "174          Scotland  NaN  2014                                         3\n",
            "185      South Africa  ZAF  2006                                         3\n",
            "188             Spain  ESP  2005                                         3\n",
            "192            Sweden  SWE  2009                                         3\n",
            "195            Taiwan  TWN  2019                                         3\n",
            "211    United Kingdom  GBR  2013                                         3\n",
            "212     United States  USA  2015                                         3\n",
            "214           Uruguay  URY  2013                                         3\n"
          ]
        }
      ]
    },
    {
      "cell_type": "markdown",
      "metadata": {
        "id": "i1OBxFeUigma"
      },
      "source": [
        "10 primeiros países a legalizar a união entre pessoas de mesmo sexo:"
      ]
    },
    {
      "cell_type": "code",
      "metadata": {
        "colab": {
          "base_uri": "https://localhost:8080/",
          "height": 363
        },
        "id": "lBlfspnAfV_q",
        "outputId": "37d19f38-3d13-4c0a-d067-53358735184d"
      },
      "source": [
        "df1 = df.loc[df['Same sex marriage and civil unions legal'] == 3]\n",
        "df1.nsmallest(10, columns='Year', keep='all')"
      ],
      "execution_count": 10,
      "outputs": [
        {
          "output_type": "execute_result",
          "data": {
            "text/html": [
              "<div>\n",
              "<style scoped>\n",
              "    .dataframe tbody tr th:only-of-type {\n",
              "        vertical-align: middle;\n",
              "    }\n",
              "\n",
              "    .dataframe tbody tr th {\n",
              "        vertical-align: top;\n",
              "    }\n",
              "\n",
              "    .dataframe thead th {\n",
              "        text-align: right;\n",
              "    }\n",
              "</style>\n",
              "<table border=\"1\" class=\"dataframe\">\n",
              "  <thead>\n",
              "    <tr style=\"text-align: right;\">\n",
              "      <th></th>\n",
              "      <th>Entity</th>\n",
              "      <th>Code</th>\n",
              "      <th>Year</th>\n",
              "      <th>Same sex marriage and civil unions legal</th>\n",
              "    </tr>\n",
              "  </thead>\n",
              "  <tbody>\n",
              "    <tr>\n",
              "      <th>139</th>\n",
              "      <td>Netherlands</td>\n",
              "      <td>NLD</td>\n",
              "      <td>2000</td>\n",
              "      <td>3</td>\n",
              "    </tr>\n",
              "    <tr>\n",
              "      <th>18</th>\n",
              "      <td>Belgium</td>\n",
              "      <td>BEL</td>\n",
              "      <td>2003</td>\n",
              "      <td>3</td>\n",
              "    </tr>\n",
              "    <tr>\n",
              "      <th>34</th>\n",
              "      <td>Canada</td>\n",
              "      <td>CAN</td>\n",
              "      <td>2005</td>\n",
              "      <td>3</td>\n",
              "    </tr>\n",
              "    <tr>\n",
              "      <th>188</th>\n",
              "      <td>Spain</td>\n",
              "      <td>ESP</td>\n",
              "      <td>2005</td>\n",
              "      <td>3</td>\n",
              "    </tr>\n",
              "    <tr>\n",
              "      <th>185</th>\n",
              "      <td>South Africa</td>\n",
              "      <td>ZAF</td>\n",
              "      <td>2006</td>\n",
              "      <td>3</td>\n",
              "    </tr>\n",
              "    <tr>\n",
              "      <th>149</th>\n",
              "      <td>Norway</td>\n",
              "      <td>NOR</td>\n",
              "      <td>2008</td>\n",
              "      <td>3</td>\n",
              "    </tr>\n",
              "    <tr>\n",
              "      <th>192</th>\n",
              "      <td>Sweden</td>\n",
              "      <td>SWE</td>\n",
              "      <td>2009</td>\n",
              "      <td>3</td>\n",
              "    </tr>\n",
              "    <tr>\n",
              "      <th>7</th>\n",
              "      <td>Argentina</td>\n",
              "      <td>ARG</td>\n",
              "      <td>2010</td>\n",
              "      <td>3</td>\n",
              "    </tr>\n",
              "    <tr>\n",
              "      <th>90</th>\n",
              "      <td>Iceland</td>\n",
              "      <td>ISL</td>\n",
              "      <td>2010</td>\n",
              "      <td>3</td>\n",
              "    </tr>\n",
              "    <tr>\n",
              "      <th>160</th>\n",
              "      <td>Portugal</td>\n",
              "      <td>PRT</td>\n",
              "      <td>2010</td>\n",
              "      <td>3</td>\n",
              "    </tr>\n",
              "  </tbody>\n",
              "</table>\n",
              "</div>"
            ],
            "text/plain": [
              "           Entity Code  Year  Same sex marriage and civil unions legal\n",
              "139   Netherlands  NLD  2000                                         3\n",
              "18        Belgium  BEL  2003                                         3\n",
              "34         Canada  CAN  2005                                         3\n",
              "188         Spain  ESP  2005                                         3\n",
              "185  South Africa  ZAF  2006                                         3\n",
              "149        Norway  NOR  2008                                         3\n",
              "192        Sweden  SWE  2009                                         3\n",
              "7       Argentina  ARG  2010                                         3\n",
              "90        Iceland  ISL  2010                                         3\n",
              "160      Portugal  PRT  2010                                         3"
            ]
          },
          "metadata": {},
          "execution_count": 10
        }
      ]
    },
    {
      "cell_type": "markdown",
      "metadata": {
        "id": "MMh0UAx7lp1-"
      },
      "source": [
        "10 últimos países a legalizar a união entre pessoas de mesmo sexo (dados até 2020):"
      ]
    },
    {
      "cell_type": "code",
      "metadata": {
        "colab": {
          "base_uri": "https://localhost:8080/",
          "height": 457
        },
        "id": "m_glhpBYlqtY",
        "outputId": "e56a662b-520e-4ae3-e1b8-71e9de18f9e0"
      },
      "source": [
        "df1 = df.loc[df['Same sex marriage and civil unions legal'] == 3]\n",
        "df1.nlargest(10, columns='Year', keep='all')"
      ],
      "execution_count": 11,
      "outputs": [
        {
          "output_type": "execute_result",
          "data": {
            "text/html": [
              "<div>\n",
              "<style scoped>\n",
              "    .dataframe tbody tr th:only-of-type {\n",
              "        vertical-align: middle;\n",
              "    }\n",
              "\n",
              "    .dataframe tbody tr th {\n",
              "        vertical-align: top;\n",
              "    }\n",
              "\n",
              "    .dataframe thead th {\n",
              "        text-align: right;\n",
              "    }\n",
              "</style>\n",
              "<table border=\"1\" class=\"dataframe\">\n",
              "  <thead>\n",
              "    <tr style=\"text-align: right;\">\n",
              "      <th></th>\n",
              "      <th>Entity</th>\n",
              "      <th>Code</th>\n",
              "      <th>Year</th>\n",
              "      <th>Same sex marriage and civil unions legal</th>\n",
              "    </tr>\n",
              "  </thead>\n",
              "  <tbody>\n",
              "    <tr>\n",
              "      <th>45</th>\n",
              "      <td>Costa Rica</td>\n",
              "      <td>CRI</td>\n",
              "      <td>2020</td>\n",
              "      <td>3</td>\n",
              "    </tr>\n",
              "    <tr>\n",
              "      <th>11</th>\n",
              "      <td>Austria</td>\n",
              "      <td>AUT</td>\n",
              "      <td>2019</td>\n",
              "      <td>3</td>\n",
              "    </tr>\n",
              "    <tr>\n",
              "      <th>57</th>\n",
              "      <td>Ecuador</td>\n",
              "      <td>ECU</td>\n",
              "      <td>2019</td>\n",
              "      <td>3</td>\n",
              "    </tr>\n",
              "    <tr>\n",
              "      <th>147</th>\n",
              "      <td>Northern Ireland</td>\n",
              "      <td>NaN</td>\n",
              "      <td>2019</td>\n",
              "      <td>3</td>\n",
              "    </tr>\n",
              "    <tr>\n",
              "      <th>195</th>\n",
              "      <td>Taiwan</td>\n",
              "      <td>TWN</td>\n",
              "      <td>2019</td>\n",
              "      <td>3</td>\n",
              "    </tr>\n",
              "    <tr>\n",
              "      <th>10</th>\n",
              "      <td>Australia</td>\n",
              "      <td>AUS</td>\n",
              "      <td>2017</td>\n",
              "      <td>3</td>\n",
              "    </tr>\n",
              "    <tr>\n",
              "      <th>75</th>\n",
              "      <td>Germany</td>\n",
              "      <td>DEU</td>\n",
              "      <td>2017</td>\n",
              "      <td>3</td>\n",
              "    </tr>\n",
              "    <tr>\n",
              "      <th>123</th>\n",
              "      <td>Malta</td>\n",
              "      <td>MLT</td>\n",
              "      <td>2017</td>\n",
              "      <td>3</td>\n",
              "    </tr>\n",
              "    <tr>\n",
              "      <th>42</th>\n",
              "      <td>Colombia</td>\n",
              "      <td>COL</td>\n",
              "      <td>2016</td>\n",
              "      <td>3</td>\n",
              "    </tr>\n",
              "    <tr>\n",
              "      <th>67</th>\n",
              "      <td>Finland</td>\n",
              "      <td>FIN</td>\n",
              "      <td>2015</td>\n",
              "      <td>3</td>\n",
              "    </tr>\n",
              "    <tr>\n",
              "      <th>79</th>\n",
              "      <td>Greenland</td>\n",
              "      <td>GRL</td>\n",
              "      <td>2015</td>\n",
              "      <td>3</td>\n",
              "    </tr>\n",
              "    <tr>\n",
              "      <th>95</th>\n",
              "      <td>Ireland</td>\n",
              "      <td>IRL</td>\n",
              "      <td>2015</td>\n",
              "      <td>3</td>\n",
              "    </tr>\n",
              "    <tr>\n",
              "      <th>212</th>\n",
              "      <td>United States</td>\n",
              "      <td>USA</td>\n",
              "      <td>2015</td>\n",
              "      <td>3</td>\n",
              "    </tr>\n",
              "  </tbody>\n",
              "</table>\n",
              "</div>"
            ],
            "text/plain": [
              "               Entity Code  Year  Same sex marriage and civil unions legal\n",
              "45         Costa Rica  CRI  2020                                         3\n",
              "11            Austria  AUT  2019                                         3\n",
              "57            Ecuador  ECU  2019                                         3\n",
              "147  Northern Ireland  NaN  2019                                         3\n",
              "195            Taiwan  TWN  2019                                         3\n",
              "10          Australia  AUS  2017                                         3\n",
              "75            Germany  DEU  2017                                         3\n",
              "123             Malta  MLT  2017                                         3\n",
              "42           Colombia  COL  2016                                         3\n",
              "67            Finland  FIN  2015                                         3\n",
              "79          Greenland  GRL  2015                                         3\n",
              "95            Ireland  IRL  2015                                         3\n",
              "212     United States  USA  2015                                         3"
            ]
          },
          "metadata": {},
          "execution_count": 11
        }
      ]
    },
    {
      "cell_type": "markdown",
      "metadata": {
        "id": "OinTDaRCme3U"
      },
      "source": [
        "No Brasil foi legalizado em 2013"
      ]
    },
    {
      "cell_type": "code",
      "metadata": {
        "colab": {
          "base_uri": "https://localhost:8080/",
          "height": 81
        },
        "id": "7M3vcmQtmfjm",
        "outputId": "461e9c01-46dd-4837-bd40-1d164393aaff"
      },
      "source": [
        "df.loc[df['Entity'] == 'Brazil']"
      ],
      "execution_count": 12,
      "outputs": [
        {
          "output_type": "execute_result",
          "data": {
            "text/html": [
              "<div>\n",
              "<style scoped>\n",
              "    .dataframe tbody tr th:only-of-type {\n",
              "        vertical-align: middle;\n",
              "    }\n",
              "\n",
              "    .dataframe tbody tr th {\n",
              "        vertical-align: top;\n",
              "    }\n",
              "\n",
              "    .dataframe thead th {\n",
              "        text-align: right;\n",
              "    }\n",
              "</style>\n",
              "<table border=\"1\" class=\"dataframe\">\n",
              "  <thead>\n",
              "    <tr style=\"text-align: right;\">\n",
              "      <th></th>\n",
              "      <th>Entity</th>\n",
              "      <th>Code</th>\n",
              "      <th>Year</th>\n",
              "      <th>Same sex marriage and civil unions legal</th>\n",
              "    </tr>\n",
              "  </thead>\n",
              "  <tbody>\n",
              "    <tr>\n",
              "      <th>26</th>\n",
              "      <td>Brazil</td>\n",
              "      <td>BRA</td>\n",
              "      <td>2013</td>\n",
              "      <td>3</td>\n",
              "    </tr>\n",
              "  </tbody>\n",
              "</table>\n",
              "</div>"
            ],
            "text/plain": [
              "    Entity Code  Year  Same sex marriage and civil unions legal\n",
              "26  Brazil  BRA  2013                                         3"
            ]
          },
          "metadata": {},
          "execution_count": 12
        }
      ]
    },
    {
      "cell_type": "markdown",
      "metadata": {
        "id": "6Rm9EFOOaFwI"
      },
      "source": [
        "Ano médio da legalização do casamento entre pessoas do mesmo sexo"
      ]
    },
    {
      "cell_type": "code",
      "metadata": {
        "colab": {
          "base_uri": "https://localhost:8080/"
        },
        "id": "6BjiFUUTWCT2",
        "outputId": "bc632d7c-aed0-4f50-a7e3-b36364623d1c"
      },
      "source": [
        "df1 = df.groupby(['Same sex marriage and civil unions legal'])\n",
        "df2 = df1.get_group(3)\n",
        "mean = df2['Year'].mean()\n",
        "print(mean)\n"
      ],
      "execution_count": 28,
      "outputs": [
        {
          "output_type": "stream",
          "name": "stdout",
          "text": [
            "2012.7096774193549\n"
          ]
        }
      ]
    }
  ]
}